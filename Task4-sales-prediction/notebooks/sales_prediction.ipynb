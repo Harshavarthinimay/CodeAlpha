{
 "cells": [
  {
   "cell_type": "markdown",
   "id": "c9ba8374",
   "metadata": {},
   "source": [
    "# 📈 Sales Prediction using Python"
   ]
  },
  {
   "cell_type": "markdown",
   "id": "2af4953f",
   "metadata": {},
   "source": [
    "This notebook predicts sales based on advertising spend, platform, and target segment."
   ]
  },
  {
   "cell_type": "code",
   "execution_count": null,
   "id": "d74962df",
   "metadata": {},
   "outputs": [],
   "source": [
    "import pandas as pd\n",
    "import numpy as np\n",
    "import matplotlib.pyplot as plt\n",
    "import seaborn as sns\n",
    "\n",
    "from sklearn.model_selection import train_test_split\n",
    "from sklearn.linear_model import LinearRegression\n",
    "from sklearn.metrics import mean_squared_error, r2_score"
   ]
  },
  {
   "cell_type": "markdown",
   "id": "3427a8ab",
   "metadata": {},
   "source": [
    "## 📥 Load and Inspect Dataset"
   ]
  },
  {
   "cell_type": "code",
   "execution_count": null,
   "id": "7bae7296",
   "metadata": {},
   "outputs": [],
   "source": [
    "df = pd.read_csv('../data/advertising.csv')\n",
    "df.head()"
   ]
  },
  {
   "cell_type": "markdown",
   "id": "b34b6482",
   "metadata": {},
   "source": [
    "## 🧹 Clean Data"
   ]
  },
  {
   "cell_type": "code",
   "execution_count": null,
   "id": "7a0ac4f8",
   "metadata": {},
   "outputs": [],
   "source": [
    "df.isnull().sum()\n",
    "df.dropna(inplace=True)"
   ]
  },
  {
   "cell_type": "markdown",
   "id": "6085668b",
   "metadata": {},
   "source": [
    "## 🔄 Feature Encoding"
   ]
  },
  {
   "cell_type": "code",
   "execution_count": null,
   "id": "1771d642",
   "metadata": {},
   "outputs": [],
   "source": [
    "df = pd.get_dummies(df, columns=['Platform', 'Target_Segment'], drop_first=True)"
   ]
  },
  {
   "cell_type": "markdown",
   "id": "87b48e1c",
   "metadata": {},
   "source": [
    "## 📊 Train-Test Split"
   ]
  },
  {
   "cell_type": "code",
   "execution_count": null,
   "id": "40882d54",
   "metadata": {},
   "outputs": [],
   "source": [
    "X = df.drop('Sales', axis=1)\n",
    "y = df['Sales']\n",
    "\n",
    "X_train, X_test, y_train, y_test = train_test_split(X, y, test_size=0.2, random_state=42)"
   ]
  },
  {
   "cell_type": "markdown",
   "id": "48974089",
   "metadata": {},
   "source": [
    "## 🤖 Train Model"
   ]
  },
  {
   "cell_type": "code",
   "execution_count": null,
   "id": "7322a733",
   "metadata": {},
   "outputs": [],
   "source": [
    "model = LinearRegression()\n",
    "model.fit(X_train, y_train)"
   ]
  },
  {
   "cell_type": "markdown",
   "id": "667ae250",
   "metadata": {},
   "source": [
    "## 📈 Evaluate Model"
   ]
  },
  {
   "cell_type": "code",
   "execution_count": null,
   "id": "cfef9c64",
   "metadata": {},
   "outputs": [],
   "source": [
    "y_pred = model.predict(X_test)\n",
    "\n",
    "print(\"Mean Squared Error:\", mean_squared_error(y_test, y_pred))\n",
    "print(\"R2 Score:\", r2_score(y_test, y_pred))\n",
    "\n",
    "plt.scatter(y_test, y_pred)\n",
    "plt.xlabel(\"Actual Sales\")\n",
    "plt.ylabel(\"Predicted Sales\")\n",
    "plt.title(\"Actual vs Predicted Sales\")\n",
    "plt.show()"
   ]
  },
  {
   "cell_type": "markdown",
   "id": "c99d6c60",
   "metadata": {},
   "source": [
    "## 📌 Feature Importance"
   ]
  },
  {
   "cell_type": "code",
   "execution_count": null,
   "id": "aa044f33",
   "metadata": {},
   "outputs": [],
   "source": [
    "coefficients = pd.DataFrame(model.coef_, X.columns, columns=[\"Coefficient\"])\n",
    "coefficients.sort_values(by=\"Coefficient\", ascending=False)"
   ]
  }
 ],
 "metadata": {},
 "nbformat": 4,
 "nbformat_minor": 5
}
